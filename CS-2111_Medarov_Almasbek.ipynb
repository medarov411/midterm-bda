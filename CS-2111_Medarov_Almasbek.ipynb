{
 "cells": [
  {
   "cell_type": "markdown",
   "id": "56a4f6ba",
   "metadata": {},
   "source": [
    "# Big Data in Law Enforcement"
   ]
  },
  {
   "cell_type": "markdown",
   "id": "d8400434",
   "metadata": {},
   "source": [
    "## Introduction\n",
    "Cyber security it's practice of defending computer from attacks or viruses. Some of them are SQL injection, XML extension(xex), DOM and etc. \n"
   ]
  },
  {
   "cell_type": "markdown",
   "id": "ac07e5c7",
   "metadata": {},
   "source": [
    "**Objectives**\n",
    "- List of popular languages\n",
    "- List of common libraries\n",
    "- Sample of arithmetic examples\n",
    "- Converting minutes to hours\n"
   ]
  },
  {
   "cell_type": "markdown",
   "id": "f3008ec4",
   "metadata": {},
   "source": [
    "*Some of the popular languages that Data Scientists use are:*\n",
    "1. SQL\n",
    "2. Python\n",
    "3. JAVA"
   ]
  },
  {
   "cell_type": "markdown",
   "id": "2c5ef0c6",
   "metadata": {},
   "source": [
    "*Some of the commonly used libraries used by Data Scientist include:*\n",
    "- Seaborn\n",
    "- Scikit-Learn\n",
    "- TensorFlow"
   ]
  },
  {
   "cell_type": "markdown",
   "id": "24c5fc6d",
   "metadata": {},
   "source": [
    "| Data Science Tools | \n",
    "| -------------| \n",
    "| RapidMiner | \n",
    "| Matpotlib | \n",
    "| Excel |"
   ]
  },
  {
   "cell_type": "markdown",
   "id": "623a9bc6",
   "metadata": {},
   "source": [
    "### Below are a few examples of evaluating arithmetic expressions in Python."
   ]
  },
  {
   "cell_type": "code",
   "execution_count": 1,
   "id": "0f832b92",
   "metadata": {},
   "outputs": [
    {
     "data": {
      "text/plain": [
       "33"
      ]
     },
     "execution_count": 1,
     "metadata": {},
     "output_type": "execute_result"
    }
   ],
   "source": [
    "#This is a simple arithmetic expression\n",
    "(4*6)+9"
   ]
  },
  {
   "cell_type": "code",
   "execution_count": 2,
   "id": "9b439cfc",
   "metadata": {},
   "outputs": [
    {
     "data": {
      "text/plain": [
       "5.0"
      ]
     },
     "execution_count": 2,
     "metadata": {},
     "output_type": "execute_result"
    }
   ],
   "source": [
    "#This will convert 300 minutes to hours by dividing by 60\n",
    "300/60\n"
   ]
  },
  {
   "cell_type": "markdown",
   "id": "0c1b3d89",
   "metadata": {},
   "source": [
    "## Author\n",
    "Almas Medarov"
   ]
  }
 ],
 "metadata": {
  "kernelspec": {
   "display_name": "Python 3 (ipykernel)",
   "language": "python",
   "name": "python3"
  },
  "language_info": {
   "codemirror_mode": {
    "name": "ipython",
    "version": 3
   },
   "file_extension": ".py",
   "mimetype": "text/x-python",
   "name": "python",
   "nbconvert_exporter": "python",
   "pygments_lexer": "ipython3",
   "version": "3.11.2"
  }
 },
 "nbformat": 4,
 "nbformat_minor": 5
}
